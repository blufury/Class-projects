{
  "nbformat": 4,
  "nbformat_minor": 0,
  "metadata": {
    "colab": {
      "provenance": [],
      "authorship_tag": "ABX9TyMRxcXwUX/lA8Ldcy02hpyq",
      "include_colab_link": true
    },
    "kernelspec": {
      "name": "python3",
      "display_name": "Python 3"
    },
    "language_info": {
      "name": "python"
    }
  },
  "cells": [
    {
      "cell_type": "markdown",
      "metadata": {
        "id": "view-in-github",
        "colab_type": "text"
      },
      "source": [
        "<a href=\"https://colab.research.google.com/github/blufury/Class-projects/blob/master/Ridge%26Lasso.ipynb\" target=\"_parent\"><img src=\"https://colab.research.google.com/assets/colab-badge.svg\" alt=\"Open In Colab\"/></a>"
      ]
    },
    {
      "cell_type": "code",
      "source": [
        "import pandas as pd\n",
        "import numpy as np\n",
        "import statsmodels.api as sm\n",
        "\n",
        "from sklearn.model_selection import train_test_split, cross_val_score\n",
        "from sklearn.linear_model import LinearRegression, RidgeCV, LassoCV\n",
        "from sklearn.preprocessing import StandardScaler\n",
        "from sklearn.metrics import mean_squared_error, r2_score\n",
        "\n",
        "college = pd.read_csv('College.csv')"
      ],
      "metadata": {
        "id": "M_l3iXigGfgK"
      },
      "execution_count": 4,
      "outputs": []
    },
    {
      "cell_type": "markdown",
      "source": [
        "Multiple Leinear Regression"
      ],
      "metadata": {
        "id": "LpEvxMfRGZ59"
      }
    },
    {
      "cell_type": "code",
      "source": [
        "college['Grad.Rate'] = college['Grad.Rate'].apply(lambda x: min(x, 100)) #cap to 100\n",
        "college['Private'] = college['Private'].map({'Yes': 1, 'No': 0}) #dummy var\n",
        "\n",
        "x = college.drop(columns=['Unnamed: 0', 'Grad.Rate'])\n",
        "y = college['Grad.Rate']\n",
        "\n",
        "x = x.fillna(x.mean())\n",
        "y = y.fillna(y.mean())\n",
        "\n",
        "xTrain, xTest, yTrain, yTest = train_test_split(x, y, test_size=0.2, random_state=32)\n",
        "\n",
        "scaler = StandardScaler()\n",
        "xTrainScal = scaler.fit_transform(xTrain)\n",
        "xTestScal = scaler.transform(xTest)\n",
        "\n",
        "xTrainMLR = sm.add_constant(xTrain)\n",
        "olsModel = sm.OLS(yTrain, xTrainMLR).fit()\n",
        "print('Multiple Linear Regression Summary: ')\n",
        "print(olsModel.summary())"
      ],
      "metadata": {
        "colab": {
          "base_uri": "https://localhost:8080/"
        },
        "id": "RElHDNRIGeC5",
        "outputId": "7ec8e2c5-94af-4de9-dd57-b671cdcb998c"
      },
      "execution_count": 5,
      "outputs": [
        {
          "output_type": "stream",
          "name": "stdout",
          "text": [
            "Multiple Linear Regression Summary: \n",
            "                            OLS Regression Results                            \n",
            "==============================================================================\n",
            "Dep. Variable:              Grad.Rate   R-squared:                       0.469\n",
            "Model:                            OLS   Adj. R-squared:                  0.454\n",
            "Method:                 Least Squares   F-statistic:                     31.36\n",
            "Date:                Wed, 26 Mar 2025   Prob (F-statistic):           1.24e-71\n",
            "Time:                        20:34:22   Log-Likelihood:                -2448.6\n",
            "No. Observations:                 621   AIC:                             4933.\n",
            "Df Residuals:                     603   BIC:                             5013.\n",
            "Df Model:                          17                                         \n",
            "Covariance Type:            nonrobust                                         \n",
            "===============================================================================\n",
            "                  coef    std err          t      P>|t|      [0.025      0.975]\n",
            "-------------------------------------------------------------------------------\n",
            "const          31.7676      5.334      5.955      0.000      21.291      42.244\n",
            "Private         3.3190      1.910      1.738      0.083      -0.432       7.070\n",
            "Apps            0.0010      0.001      1.939      0.053   -1.24e-05       0.002\n",
            "Accept      -7.543e-05      0.001     -0.076      0.939      -0.002       0.002\n",
            "Enroll          0.0010      0.003      0.384      0.701      -0.004       0.006\n",
            "Top10perc       0.1349      0.083      1.634      0.103      -0.027       0.297\n",
            "Top25perc       0.0984      0.061      1.606      0.109      -0.022       0.219\n",
            "F.Undergrad    -0.0003      0.000     -0.690      0.490      -0.001       0.001\n",
            "P.Undergrad    -0.0017      0.000     -3.310      0.001      -0.003      -0.001\n",
            "Outstate        0.0011      0.000      4.101      0.000       0.001       0.002\n",
            "Room.Board      0.0018      0.001      2.632      0.009       0.000       0.003\n",
            "Books          -0.0007      0.003     -0.205      0.837      -0.007       0.006\n",
            "Personal       -0.0018      0.001     -2.226      0.026      -0.003      -0.000\n",
            "PhD             0.0871      0.064      1.356      0.176      -0.039       0.213\n",
            "Terminal       -0.0833      0.068     -1.222      0.222      -0.217       0.051\n",
            "S.F.Ratio       0.2233      0.186      1.203      0.230      -0.141       0.588\n",
            "perc.alumni     0.2588      0.055      4.666      0.000       0.150       0.368\n",
            "Expend         -0.0004      0.000     -2.607      0.009      -0.001      -0.000\n",
            "==============================================================================\n",
            "Omnibus:                       26.821   Durbin-Watson:                   1.911\n",
            "Prob(Omnibus):                  0.000   Jarque-Bera (JB):               69.982\n",
            "Skew:                           0.114   Prob(JB):                     6.36e-16\n",
            "Kurtosis:                       4.629   Cond. No.                     1.76e+05\n",
            "==============================================================================\n",
            "\n",
            "Notes:\n",
            "[1] Standard Errors assume that the covariance matrix of the errors is correctly specified.\n",
            "[2] The condition number is large, 1.76e+05. This might indicate that there are\n",
            "strong multicollinearity or other numerical problems.\n"
          ]
        }
      ]
    },
    {
      "cell_type": "markdown",
      "source": [
        "# Ridge Regression"
      ],
      "metadata": {
        "id": "8TAQf0OvKhO1"
      }
    },
    {
      "cell_type": "code",
      "source": [
        "ridge = RidgeCV(alphas=np.logspace(-4,4,50), cv=5)\n",
        "ridge.fit(xTrainScal, yTrain)\n",
        "yPredRidge = ridge.predict(xTestScal)\n",
        "\n",
        "print('Ridge Regression Results: ')\n",
        "print(f'Best Alpha: {ridge.alpha_:.4f}')\n",
        "print(f'R Squared: {r2_score(yTest, yPredRidge):.4f}')\n",
        "print(f'RMSE: {np.sqrt(mean_squared_error(yTest, yPredRidge)):.4f}')\n",
        "print('Coefficients:')\n",
        "for col, coef in zip(x.columns, ridge.coef_):\n",
        "  print(f'{col}: {coef:.4f}')"
      ],
      "metadata": {
        "colab": {
          "base_uri": "https://localhost:8080/"
        },
        "id": "F2oN1xVAK3fX",
        "outputId": "9b164769-cbbe-4549-d74c-96dad1ca69d0"
      },
      "execution_count": 11,
      "outputs": [
        {
          "output_type": "stream",
          "name": "stdout",
          "text": [
            "Ridge Regression Results: \n",
            "Best Alpha: 75.4312\n",
            "R Squared: 0.4001\n",
            "RMSE: 12.8184\n",
            "Coefficients:\n",
            "Private: 1.5759\n",
            "Apps: 2.0465\n",
            "Accept: 1.1139\n",
            "Enroll: 0.1144\n",
            "Top10perc: 2.1699\n",
            "Top25perc: 1.9800\n",
            "F.Undergrad: -0.6098\n",
            "P.Undergrad: -2.2008\n",
            "Outstate: 3.3815\n",
            "Room.Board: 1.8940\n",
            "Books: -0.1380\n",
            "Personal: -1.3544\n",
            "PhD: 0.9134\n",
            "Terminal: -0.5460\n",
            "S.F.Ratio: 0.6486\n",
            "perc.alumni: 2.9089\n",
            "Expend: -1.2032\n"
          ]
        }
      ]
    },
    {
      "cell_type": "markdown",
      "source": [
        "# Lasso Regression Model"
      ],
      "metadata": {
        "id": "-cDLcVPoNp9w"
      }
    },
    {
      "cell_type": "code",
      "source": [
        "lasso = LassoCV(alphas=np.logspace(-4,4,50), cv=5, max_iter=10000)\n",
        "lasso.fit(xTrainScal, yTrain)\n",
        "yPredLasso = lasso.predict(xTestScal)\n",
        "\n",
        "print('Lasso Regression Result:')\n",
        "print(f\"Best Alpha: {lasso.alpha_:.4f}\")\n",
        "print(f\"R Squared: {r2_score(yTest, yPredLasso):.4f}\")\n",
        "print(f\"RMSE: {np.sqrt(mean_squared_error(yTest, yPredLasso)):.4f}\")\n",
        "print(\"Coefficients:\")\n",
        "for col, coef in zip(x.columns, lasso.coef_):\n",
        "    print(f\"{col}: {coef:.4f}\")"
      ],
      "metadata": {
        "colab": {
          "base_uri": "https://localhost:8080/"
        },
        "id": "cHHO4aJcNvCl",
        "outputId": "fb7169f7-af68-4d4a-8e26-4e27485b9cfb"
      },
      "execution_count": 12,
      "outputs": [
        {
          "output_type": "stream",
          "name": "stdout",
          "text": [
            "Lasso Regression Result:\n",
            "Best Alpha: 0.2683\n",
            "R Squared: 0.4002\n",
            "RMSE: 12.8172\n",
            "Coefficients:\n",
            "Private: 1.1153\n",
            "Apps: 2.7211\n",
            "Accept: 0.0000\n",
            "Enroll: 0.0000\n",
            "Top10perc: 1.9183\n",
            "Top25perc: 1.9271\n",
            "F.Undergrad: -0.0000\n",
            "P.Undergrad: -2.2513\n",
            "Outstate: 4.1377\n",
            "Room.Board: 1.6433\n",
            "Books: -0.0000\n",
            "Personal: -1.2718\n",
            "PhD: 0.1089\n",
            "Terminal: -0.0000\n",
            "S.F.Ratio: 0.4472\n",
            "perc.alumni: 2.9635\n",
            "Expend: -1.2055\n"
          ]
        }
      ]
    }
  ]
}