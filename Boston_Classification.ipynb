{
  "nbformat": 4,
  "nbformat_minor": 0,
  "metadata": {
    "colab": {
      "provenance": [],
      "authorship_tag": "ABX9TyMxQugypgjGj3v8nNUqXK6Q",
      "include_colab_link": true
    },
    "kernelspec": {
      "name": "python3",
      "display_name": "Python 3"
    },
    "language_info": {
      "name": "python"
    }
  },
  "cells": [
    {
      "cell_type": "markdown",
      "metadata": {
        "id": "view-in-github",
        "colab_type": "text"
      },
      "source": [
        "<a href=\"https://colab.research.google.com/github/blufury/Class-projects/blob/master/Boston_Classification.ipynb\" target=\"_parent\"><img src=\"https://colab.research.google.com/assets/colab-badge.svg\" alt=\"Open In Colab\"/></a>"
      ]
    },
    {
      "cell_type": "code",
      "execution_count": null,
      "metadata": {
        "id": "A4CrCYFsynRO"
      },
      "outputs": [],
      "source": [
        "import pandas as pd\n",
        "import numpy as np\n",
        "import matplotlib.pyplot as plt\n",
        "import seaborn as sns\n",
        "import statsmodels.api as sm\n",
        "\n",
        "from sklearn.model_selection import train_test_split\n",
        "from sklearn.preprocessing import StandardScaler\n",
        "from sklearn.linear_model import LogisticRegression\n",
        "from sklearn.discriminant_analysis import LinearDiscriminantAnalysis\n",
        "from sklearn.neighbors import KNeighborsClassifier\n",
        "from sklearn.naive_bayes import GaussianNB\n",
        "from sklearn.metrics import confusion_matrix, accuracy_score"
      ]
    },
    {
      "cell_type": "markdown",
      "source": [
        "# **Question 1**"
      ],
      "metadata": {
        "id": "YvKND0R_2FPU"
      }
    },
    {
      "cell_type": "code",
      "source": [
        "data = pd.read_csv('Boston.csv')\n",
        "\n",
        "medv_mean = data['medv'].mean()\n",
        "print(f'Mean of medv: {medv_mean:.2f}')\n",
        "data['medv_cat'] = np.where(data['medv'] > medv_mean, 'High', 'Low')\n",
        "print(data[['medv', 'medv_cat']].head(10))"
      ],
      "metadata": {
        "colab": {
          "base_uri": "https://localhost:8080/"
        },
        "id": "aGU57mUX0qpT",
        "outputId": "3abcdd20-f634-4454-de4d-005a1f8d612d"
      },
      "execution_count": null,
      "outputs": [
        {
          "output_type": "stream",
          "name": "stdout",
          "text": [
            "Mean of medv: 22.53\n",
            "   medv medv_cat\n",
            "0  24.0     High\n",
            "1  21.6      Low\n",
            "2  34.7     High\n",
            "3  33.4     High\n",
            "4  36.2     High\n",
            "5  28.7     High\n",
            "6  22.9     High\n",
            "7  27.1     High\n",
            "8  16.5      Low\n",
            "9  18.9      Low\n"
          ]
        }
      ]
    },
    {
      "cell_type": "markdown",
      "source": [
        "# **Question 2**"
      ],
      "metadata": {
        "id": "jKxTS3tg2JvH"
      }
    },
    {
      "cell_type": "code",
      "source": [
        "numerical_summary = data.describe()\n",
        "print(numerical_summary)"
      ],
      "metadata": {
        "colab": {
          "base_uri": "https://localhost:8080/"
        },
        "id": "efmzwFzW2Mp1",
        "outputId": "eef962bd-d17e-4409-acc1-2a0ba203f54e"
      },
      "execution_count": null,
      "outputs": [
        {
          "output_type": "stream",
          "name": "stdout",
          "text": [
            "       Unnamed: 0        crim          zn       indus        chas         nox  \\\n",
            "count  506.000000  506.000000  506.000000  506.000000  506.000000  506.000000   \n",
            "mean   253.500000    3.613524   11.363636   11.136779    0.069170    0.554695   \n",
            "std    146.213884    8.601545   23.322453    6.860353    0.253994    0.115878   \n",
            "min      1.000000    0.006320    0.000000    0.460000    0.000000    0.385000   \n",
            "25%    127.250000    0.082045    0.000000    5.190000    0.000000    0.449000   \n",
            "50%    253.500000    0.256510    0.000000    9.690000    0.000000    0.538000   \n",
            "75%    379.750000    3.677083   12.500000   18.100000    0.000000    0.624000   \n",
            "max    506.000000   88.976200  100.000000   27.740000    1.000000    0.871000   \n",
            "\n",
            "               rm         age         dis         rad         tax     ptratio  \\\n",
            "count  506.000000  506.000000  506.000000  506.000000  506.000000  506.000000   \n",
            "mean     6.284634   68.574901    3.795043    9.549407  408.237154   18.455534   \n",
            "std      0.702617   28.148861    2.105710    8.707259  168.537116    2.164946   \n",
            "min      3.561000    2.900000    1.129600    1.000000  187.000000   12.600000   \n",
            "25%      5.885500   45.025000    2.100175    4.000000  279.000000   17.400000   \n",
            "50%      6.208500   77.500000    3.207450    5.000000  330.000000   19.050000   \n",
            "75%      6.623500   94.075000    5.188425   24.000000  666.000000   20.200000   \n",
            "max      8.780000  100.000000   12.126500   24.000000  711.000000   22.000000   \n",
            "\n",
            "            lstat        medv  \n",
            "count  506.000000  506.000000  \n",
            "mean    12.653063   22.532806  \n",
            "std      7.141062    9.197104  \n",
            "min      1.730000    5.000000  \n",
            "25%      6.950000   17.025000  \n",
            "50%     11.360000   21.200000  \n",
            "75%     16.955000   25.000000  \n",
            "max     37.970000   50.000000  \n"
          ]
        }
      ]
    },
    {
      "cell_type": "code",
      "source": [
        "plt.figure(figsize=(15,5))\n",
        "plt.subplot(1,3,1)\n",
        "sns.histplot(data['medv'], bins=30, kde=True)\n",
        "plt.title('Histogram of medv')\n",
        "plt.xlabel('Median Value (in $1000s)')"
      ],
      "metadata": {
        "colab": {
          "base_uri": "https://localhost:8080/",
          "height": 504
        },
        "id": "R6zHqGVC2fZd",
        "outputId": "94e6b852-239d-4cdb-c4e8-198dd74af471"
      },
      "execution_count": null,
      "outputs": [
        {
          "output_type": "execute_result",
          "data": {
            "text/plain": [
              "Text(0.5, 0, 'Median Value (in $1000s)')"
            ]
          },
          "metadata": {},
          "execution_count": 11
        },
        {
          "output_type": "display_data",
          "data": {
            "text/plain": [
              "<Figure size 1500x500 with 1 Axes>"
            ],
            "image/png": "[encoded data removed]"
          },
          "metadata": {}
        }
      ]
    },
    {
      "cell_type": "code",
      "source": [
        "plt.sub"
      ],
      "metadata": {
        "id": "Bx1_sZ6z3EHe"
      },
      "execution_count": null,
      "outputs": []
    }
  ]
}